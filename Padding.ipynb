{
 "cells": [
  {
   "cell_type": "markdown",
   "id": "e190175b",
   "metadata": {},
   "source": [
    "### Use of padding\n",
    "\n",
    "In this notebook I'm padding list of lists for possible adding to a Pandas dataframe. This can be used for adding results of regex (with results of various lengths) into a dataframe. "
   ]
  },
  {
   "cell_type": "code",
   "execution_count": 11,
   "id": "6f409e94",
   "metadata": {},
   "outputs": [],
   "source": [
    "a = [[1,2], [1,2,3], [1,2,3,4,5,6,7], list('abcdefghijkl')]"
   ]
  },
  {
   "cell_type": "code",
   "execution_count": 12,
   "id": "b76b64ad",
   "metadata": {},
   "outputs": [
    {
     "data": {
      "text/plain": [
       "[[1, 2],\n",
       " [1, 2, 3],\n",
       " [1, 2, 3, 4, 5, 6, 7],\n",
       " ['a', 'b', 'c', 'd', 'e', 'f', 'g', 'h', 'i', 'j', 'k', 'l']]"
      ]
     },
     "execution_count": 12,
     "metadata": {},
     "output_type": "execute_result"
    }
   ],
   "source": [
    "a"
   ]
  },
  {
   "cell_type": "code",
   "execution_count": 13,
   "id": "ba9a7bd3",
   "metadata": {},
   "outputs": [],
   "source": [
    "padding = len(max(a, key = len))\n",
    "b = [row + [None] * (padding - len(row)) for row in a]"
   ]
  },
  {
   "cell_type": "code",
   "execution_count": 14,
   "id": "9695701b",
   "metadata": {},
   "outputs": [
    {
     "data": {
      "text/plain": [
       "[[1, 2, None, None, None, None, None, None, None, None, None, None],\n",
       " [1, 2, 3, None, None, None, None, None, None, None, None, None],\n",
       " [1, 2, 3, 4, 5, 6, 7, None, None, None, None, None],\n",
       " ['a', 'b', 'c', 'd', 'e', 'f', 'g', 'h', 'i', 'j', 'k', 'l']]"
      ]
     },
     "execution_count": 14,
     "metadata": {},
     "output_type": "execute_result"
    }
   ],
   "source": [
    "b"
   ]
  },
  {
   "cell_type": "code",
   "execution_count": null,
   "id": "aa333187",
   "metadata": {},
   "outputs": [],
   "source": []
  }
 ],
 "metadata": {
  "kernelspec": {
   "display_name": "Python 3 (ipykernel)",
   "language": "python",
   "name": "python3"
  },
  "language_info": {
   "codemirror_mode": {
    "name": "ipython",
    "version": 3
   },
   "file_extension": ".py",
   "mimetype": "text/x-python",
   "name": "python",
   "nbconvert_exporter": "python",
   "pygments_lexer": "ipython3",
   "version": "3.9.7"
  }
 },
 "nbformat": 4,
 "nbformat_minor": 5
}
